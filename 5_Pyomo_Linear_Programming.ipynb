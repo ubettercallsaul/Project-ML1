{
  "nbformat": 4,
  "nbformat_minor": 0,
  "metadata": {
    "colab": {
      "provenance": [],
      "include_colab_link": true
    },
    "kernelspec": {
      "name": "python3",
      "display_name": "Python 3"
    },
    "language_info": {
      "name": "python"
    }
  },
  "cells": [
    {
      "cell_type": "markdown",
      "metadata": {
        "id": "view-in-github",
        "colab_type": "text"
      },
      "source": [
        "<a href=\"https://colab.research.google.com/github/ubettercallsaul/Project-ML1/blob/main/5_Pyomo_Linear_Programming.ipynb\" target=\"_parent\"><img src=\"https://colab.research.google.com/assets/colab-badge.svg\" alt=\"Open In Colab\"/></a>"
      ]
    },
    {
      "cell_type": "markdown",
      "source": [
        "## Linear Programming"
      ],
      "metadata": {
        "id": "nUyPo_nrKPja"
      }
    },
    {
      "cell_type": "markdown",
      "source": [
        "Linear programming (LP) is a mathematical optimization problem which is formulated using linear functions. The general formulation of LP is described as\n",
        "\n",
        "$$\n",
        "\\begin{align*}\n",
        "    \\min \\quad & c^\\top x\\\\\n",
        "    \\text{s.t.} \\quad & A x \\leq b\\\\\n",
        "    & x \\geq 0, \\nonumber\n",
        "\\end{align*}\n",
        "$$\n",
        "\n",
        "where $x$ is a vector of the design variables which has $n$ number of the design variables so that $x \\in \\mathbb{R}^n$. $c \\in \\mathbb{R}^n$ are the objective coefficients. Therefore, $c^\\top x$ is the cost function. The $m$ linear constraints are described by the matrix $A \\in \\mathbb{R}^{m \\times n}$ and the vector $b \\in \\mathbb{R}^m$.\n",
        "\n",
        "This post will not discuss various optimization solvers for the LP, but focus on how to solve LP problems in Python using [Pyomo](http://www.pyomo.org/)."
      ],
      "metadata": {
        "id": "vhbvn8G6a88k"
      }
    },
    {
      "cell_type": "markdown",
      "source": [
        "## Battery Production Planning"
      ],
      "metadata": {
        "id": "ErlVL_GHa-Ji"
      }
    },
    {
      "cell_type": "markdown",
      "source": [
        "## The microchip production problem\n",
        "The company GL  produces two types of Li-ion battery Cathodes, NMC (1 g Lithium, 7 g Nickel, 1 g Manganese, 1 g Cobalt) and NCA (1 g :Lithium, 6 g Nickel, 2 g Cobalt, 1g Aluminium). Each of NMC can be sold for a 9 USD profit, and each of NCA for a 5 USD profit.\n",
        "\n",
        "\n"
      ],
      "metadata": {
        "id": "_BGgUHaea_Dq"
      }
    },
    {
      "cell_type": "markdown",
      "source": [
        " Cathode |Lithium | Nickel | Manganese | Cobalt| Aluminiium| Profit\n",
        "------------------ |------------------ |------------------ |------------------ |------------------ |------------------ |------------------\n",
        "NMC | 1g | 7g| 1g | 1g | 0g | 9 USD\n",
        "NCA | 1g | 6g| 2g | 0g | 1g | 5 USD"
      ],
      "metadata": {
        "id": "b3CPXC4GNZHV"
      }
    },
    {
      "cell_type": "markdown",
      "source": [
        "\n",
        "Current stock of raw materials: 200 g Lithium, 1200 g Nickel, 150 g Manganese, 200 g Cobalt, 100g Aluminum\n",
        "\n",
        "\n",
        "Lithium | Nickel | Manganese | Cobalt| Aluminiium\n",
        "------------------ |------------------ |------------------ |------------------ |------------------\n",
        "200g | 1200g| 150g | 200g | 100g\n",
        "\n",
        "\n"
      ],
      "metadata": {
        "id": "aZAjIgRLQtk8"
      }
    },
    {
      "cell_type": "markdown",
      "source": [
        "**Q: How many Cathodes of each type should be produced to maximize the profit while respecting the raw material stock availability? **"
      ],
      "metadata": {
        "id": "RU-Xvu3dRNYL"
      }
    },
    {
      "cell_type": "markdown",
      "source": [
        "Let $x_1$ denote the number of NMC and $x_2$ that of NCA. This decision can be reformulated as an optimization problem of the following form:"
      ],
      "metadata": {
        "id": "qX6xob3uKaku"
      }
    },
    {
      "cell_type": "markdown",
      "source": [
        "\n",
        "$$\n",
        "\\begin{align}\n",
        "\\max  \\quad  & 9 x_1 + 5 x_2 \\\\\n",
        "\\text{s.t.} \\quad\n",
        "    &   x_1 + x_2 \\leq 200 &\\text{Lithium}\\\\\n",
        "    &   7x_1 + 6x_2 \\leq 1200 &\\text{Nickel}\\\\\n",
        "    &   x_1 \\leq 150 &\\text{Manganese}\\\\\n",
        "    &   x_1 + 2x_2  \\leq 200 &\\text{Cobalt}\\\\\n",
        "    &   x_2 \\leq 100 &\\text{Aluminum}\\\\\n",
        "    &   x_1, x_2 \\geq 0\n",
        "\\end{align}\n",
        "$$"
      ],
      "metadata": {
        "id": "GPHu9OmZa_58"
      }
    },
    {
      "cell_type": "markdown",
      "source": [
        "The problem has $n=2$ decision variables and $m=4$ constraints. Using the standard notation introduced above, denote the vector of decision variables by $x = \\begin{pmatrix} x_1 \\\\ x_2 \\end{pmatrix}$ and define the problem coefficients as\n",
        "\n",
        "$$\n",
        "\\begin{align*}\n",
        "    c = \\begin{pmatrix} 9 \\\\ 5 \\end{pmatrix},\n",
        "    \\qquad\n",
        "    A =\n",
        "    \\begin{bmatrix}\n",
        "    1 & 1\\\\\n",
        "    7 & 6\\\\\n",
        "    1 & 0\\\\\n",
        "    1 & 2\\\\\n",
        "    0 & 1\\\\\n",
        "    \\end{bmatrix},\n",
        "    \\quad \\text{ and } \\quad\n",
        "    b = \\begin{pmatrix} 200 \\\\ 1200 \\\\ 150 \\\\ 200 \\\\100 \\end{pmatrix}.\n",
        "\\end{align*}\n",
        "$$\n",
        "\n",
        "This model can be implemented and solved in Pyomo as follows."
      ],
      "metadata": {
        "id": "fw5mK75xbBBh"
      }
    },
    {
      "cell_type": "code",
      "source": [
        "# install pyomo and select solver\n",
        "import sys\n",
        "\n",
        "SOLVER = \"cbc\"\n",
        "\n",
        "if \"google.colab\" in sys.modules:\n",
        "    !pip install highspy >/dev/null\n",
        "    SOLVER = \"appsi_highs\""
      ],
      "metadata": {
        "id": "zv7rmNWfbC67"
      },
      "execution_count": null,
      "outputs": []
    },
    {
      "cell_type": "code",
      "source": [
        "!pip install pyomo"
      ],
      "metadata": {
        "colab": {
          "base_uri": "https://localhost:8080/"
        },
        "id": "igplirQbbDhy",
        "outputId": "6f9fd8bd-5d84-414f-94ac-585170bd6aa0"
      },
      "execution_count": null,
      "outputs": [
        {
          "output_type": "stream",
          "name": "stdout",
          "text": [
            "Looking in indexes: https://pypi.org/simple, https://us-python.pkg.dev/colab-wheels/public/simple/\n",
            "Collecting pyomo\n",
            "  Downloading Pyomo-6.6.1-cp310-cp310-manylinux_2_17_x86_64.manylinux2014_x86_64.whl (11.9 MB)\n",
            "\u001b[2K     \u001b[90m━━━━━━━━━━━━━━━━━━━━━━━━━━━━━━━━━━━━━━━━\u001b[0m \u001b[32m11.9/11.9 MB\u001b[0m \u001b[31m48.8 MB/s\u001b[0m eta \u001b[36m0:00:00\u001b[0m\n",
            "\u001b[?25hCollecting ply (from pyomo)\n",
            "  Downloading ply-3.11-py2.py3-none-any.whl (49 kB)\n",
            "\u001b[2K     \u001b[90m━━━━━━━━━━━━━━━━━━━━━━━━━━━━━━━━━━━━━━━━\u001b[0m \u001b[32m49.6/49.6 kB\u001b[0m \u001b[31m6.1 MB/s\u001b[0m eta \u001b[36m0:00:00\u001b[0m\n",
            "\u001b[?25hInstalling collected packages: ply, pyomo\n",
            "Successfully installed ply-3.11 pyomo-6.6.1\n"
          ]
        }
      ]
    },
    {
      "cell_type": "code",
      "source": [
        "import pyomo.environ as pyo\n",
        "\n",
        "m = pyo.ConcreteModel('Cathode')\n",
        "\n",
        "m.x1 = pyo.Var(domain=pyo.NonNegativeReals)\n",
        "m.x2 = pyo.Var(domain=pyo.NonNegativeReals)\n",
        "\n",
        "m.profit = pyo.Objective(expr=9*m.x1 + 5*m.x2, sense=pyo.maximize)\n",
        "\n",
        "m.lithium = pyo.Constraint(expr=m.x1 + m.x1 <= 200)\n",
        "m.nickel = pyo.Constraint(expr=7*m.x1 + 6*m.x2 <= 1200)\n",
        "m.manganese = pyo.Constraint(expr=m.x1 <= 150)\n",
        "m.cobalt = pyo.Constraint(expr=1*m.x1 + 2*m.x2 <= 200)\n",
        "m.aluminum = pyo.Constraint(expr=m.x2 <= 100)\n",
        "\n",
        "pyo.SolverFactory(SOLVER).solve(m)\n",
        "\n",
        "print(f'x = ({m.x1.value:.1f}, {m.x2.value:.1f})')\n",
        "print(f'optimal value = {pyo.value(m.profit):.2f}')\n",
        "\n"
      ],
      "metadata": {
        "colab": {
          "base_uri": "https://localhost:8080/"
        },
        "id": "fs5oTN1EbFNo",
        "outputId": "ae25afa0-7701-401b-a0c8-0bc950242f69"
      },
      "execution_count": null,
      "outputs": [
        {
          "output_type": "stream",
          "name": "stdout",
          "text": [
            "x = (100.0, 50.0)\n",
            "optimal value = 1150.00\n"
          ]
        }
      ]
    },
    {
      "cell_type": "markdown",
      "source": [
        "The maximum profit is \\$1150 when producing 100 NMC and 50 NCA. 😀"
      ],
      "metadata": {
        "id": "z0Xtrmu1bG2K"
      }
    },
    {
      "cell_type": "markdown",
      "source": [
        "**References**\n",
        "\n",
        "https://mobook.github.io/MO-book/intro.html"
      ],
      "metadata": {
        "id": "YWD53-4zAjvj"
      }
    }
  ]
}