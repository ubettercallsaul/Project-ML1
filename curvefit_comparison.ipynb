{
  "nbformat": 4,
  "nbformat_minor": 0,
  "metadata": {
    "colab": {
      "provenance": [],
      "authorship_tag": "ABX9TyO/riw7LAfQTalnrYBxV30p",
      "include_colab_link": true
    },
    "kernelspec": {
      "name": "python3",
      "display_name": "Python 3"
    },
    "language_info": {
      "name": "python"
    }
  },
  "cells": [
    {
      "cell_type": "markdown",
      "metadata": {
        "id": "view-in-github",
        "colab_type": "text"
      },
      "source": [
        "<a href=\"https://colab.research.google.com/github/ubettercallsaul/Project-ML1/blob/main/curvefit_comparison.ipynb\" target=\"_parent\"><img src=\"https://colab.research.google.com/assets/colab-badge.svg\" alt=\"Open In Colab\"/></a>"
      ]
    },
    {
      "cell_type": "markdown",
      "source": [
        "Chi-square distribution and leat square fitting<br>\n",
        "https://www.asc.ohio-state.edu/gan.1/teaching/spring04/Chapter6.pdf<br>\n",
        "χ2 = Σ (Oi - Ei)2 / Ei<br>\n",
        "valid for regression cost function? seems it is for chi-squared goodness of fit test <br>\n",
        "\n",
        "Chi-squared <br>\n",
        "https://stackoverflow.com/questions/52591979/how-to-obtain-the-chi-squared-value-as-an-output-of-scipy-optimize-curve-fit"
      ],
      "metadata": {
        "id": "Tf-wZcFlMbdN"
      }
    },
    {
      "cell_type": "markdown",
      "source": [
        "Curve fitting comparison"
      ],
      "metadata": {
        "id": "_m6QxPaT9Lw5"
      }
    },
    {
      "cell_type": "code",
      "execution_count": 56,
      "metadata": {
        "id": "SJ46jIA488w1"
      },
      "outputs": [],
      "source": [
        "import numpy as np\n",
        "import matplotlib.pyplot as plt\n",
        "\n",
        "#  # Scipy curve_fit\n",
        "# from scipy.optimize import curve_fit\n",
        "\n",
        "# # lmfit. https://pypi.org/project/lmfit/"
      ]
    },
    {
      "cell_type": "code",
      "source": [
        "# constant acceleration motion\n",
        "def modelTrue(t,y0,v0,a):\n",
        "  return y0 + (v0 *t) + (0.5 * a * t ** 2)"
      ],
      "metadata": {
        "id": "NpMHvD98_79u"
      },
      "execution_count": 57,
      "outputs": []
    },
    {
      "cell_type": "code",
      "source": [
        "# Data\n",
        "rng = np.random.default_rng()\n",
        "\n",
        "ns = 20\n",
        "tData = np.linspace(0,3,ns)\n",
        "y0True = 10\n",
        "v0True = 20\n",
        "aTrue = -9.8\n",
        "\n",
        "yTrue = modelTrue(tData,y0True,v0True,aTrue)\n",
        "yErr = np.random.randn(ns) * 0.5\n",
        "yData = yTrue + yErr"
      ],
      "metadata": {
        "id": "SFgKwpNcCLO8"
      },
      "execution_count": 58,
      "outputs": []
    },
    {
      "cell_type": "code",
      "source": [
        "plt.plot(tData, yData, 'o')\n",
        "plt.show()"
      ],
      "metadata": {
        "colab": {
          "base_uri": "https://localhost:8080/",
          "height": 265
        },
        "id": "X57Xdm17BMQ5",
        "outputId": "4e58c221-fb2c-4e07-ef8f-cddf21aaff62"
      },
      "execution_count": 59,
      "outputs": [
        {
          "output_type": "display_data",
          "data": {
            "text/plain": [
              "<Figure size 432x288 with 1 Axes>"
            ],
            "image/png": "[encoded data removed]"
          },
          "metadata": {
            "needs_background": "light"
          }
        }
      ]
    },
    {
      "cell_type": "code",
      "source": [
        "def corrFromCov(cov):\n",
        "    vs = np.diag(cov)\n",
        "    return cov / np.sqrt(np.matrix(vs).transpose() @ np.matrix(vs))"
      ],
      "metadata": {
        "id": "w2dvhM6yF1KB"
      },
      "execution_count": 60,
      "outputs": []
    },
    {
      "cell_type": "markdown",
      "source": [
        "###SciPy curve_fit"
      ],
      "metadata": {
        "id": "wcPjcThsEJkR"
      }
    },
    {
      "cell_type": "code",
      "source": [
        "from scipy.optimize import curve_fit"
      ],
      "metadata": {
        "id": "g6fpTMK6BSqm"
      },
      "execution_count": 61,
      "outputs": []
    },
    {
      "cell_type": "code",
      "source": [
        "def model(t,p1,p2,p3):\n",
        "  return p1 + p2*t + p3*t**2"
      ],
      "metadata": {
        "id": "xg7bb4R0Ejra"
      },
      "execution_count": 62,
      "outputs": []
    },
    {
      "cell_type": "code",
      "source": [
        "# Fit model\n",
        "popt, pcov = curve_fit(model, tData, yData)\n",
        "\n",
        "# unpack the results\n",
        "p1fit, p2fit,p3fit = popt\n",
        "sp1fit,sp2fit,sp3fit = np.sqrt(np.diag(pcov)) # standard error\n",
        "\n",
        "# print the fit results:\n",
        "print('parameter +/- 1sigma')\n",
        "print(\"p1: %.2f +/- %.2f\"%(p1fit,sp1fit))\n",
        "print(\"p2: %.2f +/- %.2f\"%(p2fit,sp2fit))\n",
        "print(\"p3: %.2f +/- %.2f\"%(p3fit,sp3fit))"
      ],
      "metadata": {
        "colab": {
          "base_uri": "https://localhost:8080/"
        },
        "id": "IqDc01oIE102",
        "outputId": "eb1a9cf5-acbf-4bfc-cb82-dbbd133fdb9a"
      },
      "execution_count": 63,
      "outputs": [
        {
          "output_type": "stream",
          "name": "stdout",
          "text": [
            "parameter +/- 1sigma\n",
            "p1: 9.69 +/- 0.43\n",
            "p2: 20.09 +/- 0.66\n",
            "p3: -4.85 +/- 0.21\n"
          ]
        }
      ]
    },
    {
      "cell_type": "code",
      "source": [
        "pcorr = corrFromCov(pcov)\n",
        "print(\"covariance:\")\n",
        "print(pcov)\n",
        "print(\"correlation:\")\n",
        "print(pcorr)"
      ],
      "metadata": {
        "colab": {
          "base_uri": "https://localhost:8080/"
        },
        "id": "Phj5wHTmFyEp",
        "outputId": "d00a4d28-622b-4ea5-b543-082043e95f88"
      },
      "execution_count": 64,
      "outputs": [
        {
          "output_type": "stream",
          "name": "stdout",
          "text": [
            "covariance:\n",
            "[[ 0.1811277  -0.23505364  0.0636185 ]\n",
            " [-0.23505364  0.43238261 -0.13430573]\n",
            " [ 0.0636185  -0.13430573  0.04476858]]\n",
            "correlation:\n",
            "[[ 1.         -0.83992484  0.70648732]\n",
            " [-0.83992484  1.         -0.96532553]\n",
            " [ 0.70648732 -0.96532553  1.        ]]\n"
          ]
        }
      ]
    },
    {
      "cell_type": "code",
      "source": [
        "def calChiSquared(residual,sigma):\n",
        "  r = residual\n",
        "  chisq = sum((r / sigma) ** 2)\n",
        "  # chisq = (r.T @ r)/sigma**2\n",
        "  return "
      ],
      "metadata": {
        "id": "phRiJTIWUICI"
      },
      "execution_count": 111,
      "outputs": []
    },
    {
      "cell_type": "code",
      "source": [
        "from scipy.stats import chisquare\n",
        "\n",
        "# plot the data and fit results\n",
        "yfit = model(tData,p1fit,p2fit,p3fit)\n",
        "residual = yData - yfit\n",
        "\n",
        "# plt.errorbar(tData,yData,abs(residual),fmt='b.', label=\"data\")\n",
        "plt.plot(tData, yData, 'o')\n",
        "plt.xlabel(\"t\")\n",
        "plt.ylabel(\"y\")\n",
        "\n",
        "t = np.linspace(0,3)\n",
        "plt.plot(t,model(t,p1fit,p2fit,p3fit), label=\"model\")\n",
        "plt.legend()\n",
        "\n",
        "# compute chi-square\n",
        "sigma = np.std(residual)\n",
        "chisq = sum((yData - yfit)**2/sigma**2) # correct??\n",
        "\n",
        "plt.figtext(0.5,0.5,\"chi-square: %.2f\"%chisq,fontweight=\"bold\")\n",
        "\n",
        "# make a residuals plot\n",
        "plt.figure()\n",
        "plt.errorbar(tData,residual,abs(residual),fmt='b.')\n",
        "plt.hlines(0,tData.min(),tData.max())\n",
        "plt.xlabel(\"t\")\n",
        "plt.ylabel(\"residual\")\n",
        "\n",
        "plt.show()"
      ],
      "metadata": {
        "colab": {
          "base_uri": "https://localhost:8080/",
          "height": 544
        },
        "id": "JpbdLlsTF5n5",
        "outputId": "3d265f91-0a6a-4989-a888-592908533f38"
      },
      "execution_count": 112,
      "outputs": [
        {
          "output_type": "display_data",
          "data": {
            "text/plain": [
              "<Figure size 432x288 with 1 Axes>"
            ],
            "image/png": "[encoded data removed]"
          },
          "metadata": {
            "needs_background": "light"
          }
        },
        {
          "output_type": "display_data",
          "data": {
            "text/plain": [
              "<Figure size 432x288 with 1 Axes>"
            ],
            "image/png": "[encoded data removed]"
          },
          "metadata": {
            "needs_background": "light"
          }
        }
      ]
    },
    {
      "cell_type": "code",
      "source": [],
      "metadata": {
        "id": "-BgKFUbWPXdk"
      },
      "execution_count": 106,
      "outputs": []
    },
    {
      "cell_type": "code",
      "source": [
        "# chi2 = calChiSquared(residual,np.var(residual))\n",
        "chi2 = calChiSquared(residual,np.std(residual))\n",
        "print(chi2)"
      ],
      "metadata": {
        "colab": {
          "base_uri": "https://localhost:8080/"
        },
        "id": "NM-TXN6FPqgi",
        "outputId": "618be181-5858-4b2e-81b9-b754d62085d1"
      },
      "execution_count": 107,
      "outputs": [
        {
          "output_type": "stream",
          "name": "stdout",
          "text": [
            "20.0\n"
          ]
        }
      ]
    },
    {
      "cell_type": "markdown",
      "source": [
        "In curve_fit(), the argument sigma can be used to set the weights of the data points in the fit. These “describe” 1-sigma errors when the argument absolute_sigma=True1.\n",
        "\n",
        "In other words, sigma is scaled to match the sample variance of the residuals after the fit. Default is False. Mathematically, pcov (absolute_sigma=False) = pcov (absolute_sigma=True) * chisq (popt)/ (M-N)2."
      ],
      "metadata": {
        "id": "kC_XdjrKQNTV"
      }
    },
    {
      "cell_type": "markdown",
      "source": [
        "###"
      ],
      "metadata": {
        "id": "YM8YQ1BOV5qr"
      }
    },
    {
      "cell_type": "code",
      "source": [],
      "metadata": {
        "id": "nbPpK2xqV5Ak"
      },
      "execution_count": null,
      "outputs": []
    }
  ]
}